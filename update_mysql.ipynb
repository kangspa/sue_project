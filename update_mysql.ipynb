{
 "cells": [
  {
   "cell_type": "code",
   "execution_count": 1,
   "metadata": {},
   "outputs": [],
   "source": [
    "import json\n",
    "import pymysql\n",
    "import json, pandas as pd\n",
    "import numpy as np\n",
    "import os\n",
    "from tqdm import tqdm\n",
    "import time"
   ]
  },
  {
   "cell_type": "code",
   "execution_count": 2,
   "metadata": {},
   "outputs": [
    {
     "name": "stdout",
     "output_type": "stream",
     "text": [
      "D:\\VS_code\n"
     ]
    }
   ],
   "source": [
    "%cd D:/VS_code"
   ]
  },
  {
   "cell_type": "code",
   "execution_count": 3,
   "metadata": {},
   "outputs": [],
   "source": [
    "# MySQL 데이터베이스 연결\n",
    "conn=pymysql.connect(host='127.0.0.1',user='root',password='012345',db='sue',charset='utf8mb4')"
   ]
  },
  {
   "cell_type": "code",
   "execution_count": 4,
   "metadata": {},
   "outputs": [
    {
     "name": "stderr",
     "output_type": "stream",
     "text": [
      "100%|██████████| 103/103 [00:00<?, ?it/s]\n",
      "100%|██████████| 102/102 [00:00<?, ?it/s]\n",
      "100%|██████████| 113/113 [00:00<?, ?it/s]\n"
     ]
    },
    {
     "name": "stdout",
     "output_type": "stream",
     "text": [
      "---------------------------------\n"
     ]
    },
    {
     "name": "stderr",
     "output_type": "stream",
     "text": [
      "100%|██████████| 102/102 [00:00<?, ?it/s]\n",
      "100%|██████████| 101/101 [00:00<?, ?it/s]\n",
      "100%|██████████| 112/112 [00:00<00:00, 20863.48it/s]\n"
     ]
    },
    {
     "name": "stdout",
     "output_type": "stream",
     "text": [
      "---------------------------------\n"
     ]
    },
    {
     "name": "stderr",
     "output_type": "stream",
     "text": [
      "100%|██████████| 101/101 [00:00<?, ?it/s]\n",
      "100%|██████████| 100/100 [00:00<?, ?it/s]\n",
      "100%|██████████| 111/111 [00:00<?, ?it/s]\n"
     ]
    },
    {
     "name": "stdout",
     "output_type": "stream",
     "text": [
      "---------------------------------\n"
     ]
    },
    {
     "name": "stderr",
     "output_type": "stream",
     "text": [
      "100%|██████████| 100/100 [00:00<?, ?it/s]\n",
      "100%|██████████| 99/99 [00:00<00:00, 12346.09it/s]\n",
      "100%|██████████| 110/110 [00:00<?, ?it/s]\n"
     ]
    },
    {
     "name": "stdout",
     "output_type": "stream",
     "text": [
      "---------------------------------\n"
     ]
    },
    {
     "name": "stderr",
     "output_type": "stream",
     "text": [
      "100%|██████████| 99/99 [00:00<?, ?it/s]\n",
      "100%|██████████| 98/98 [00:00<?, ?it/s]\n",
      "100%|██████████| 109/109 [00:00<?, ?it/s]\n"
     ]
    },
    {
     "name": "stdout",
     "output_type": "stream",
     "text": [
      "---------------------------------\n"
     ]
    },
    {
     "name": "stderr",
     "output_type": "stream",
     "text": [
      "100%|██████████| 98/98 [00:00<?, ?it/s]\n",
      "100%|██████████| 97/97 [00:00<00:00, 12884.30it/s]\n",
      "100%|██████████| 108/108 [00:00<?, ?it/s]\n"
     ]
    },
    {
     "name": "stdout",
     "output_type": "stream",
     "text": [
      "---------------------------------\n"
     ]
    },
    {
     "name": "stderr",
     "output_type": "stream",
     "text": [
      "100%|██████████| 97/97 [00:00<?, ?it/s]\n",
      "100%|██████████| 96/96 [00:00<?, ?it/s]\n",
      "100%|██████████| 107/107 [00:00<?, ?it/s]\n"
     ]
    },
    {
     "name": "stdout",
     "output_type": "stream",
     "text": [
      "---------------------------------\n"
     ]
    },
    {
     "name": "stderr",
     "output_type": "stream",
     "text": [
      "100%|██████████| 96/96 [00:00<?, ?it/s]\n",
      "100%|██████████| 95/95 [00:00<00:00, 11857.13it/s]\n",
      "100%|██████████| 106/106 [00:00<00:00, 52048.26it/s]\n"
     ]
    },
    {
     "name": "stdout",
     "output_type": "stream",
     "text": [
      "---------------------------------\n"
     ]
    },
    {
     "name": "stderr",
     "output_type": "stream",
     "text": [
      "100%|██████████| 95/95 [00:00<?, ?it/s]\n",
      "100%|██████████| 94/94 [00:00<?, ?it/s]\n",
      "100%|██████████| 105/105 [00:00<?, ?it/s]\n"
     ]
    },
    {
     "name": "stdout",
     "output_type": "stream",
     "text": [
      "---------------------------------\n"
     ]
    },
    {
     "name": "stderr",
     "output_type": "stream",
     "text": [
      "100%|██████████| 94/94 [00:00<?, ?it/s]\n",
      "100%|██████████| 93/93 [00:00<?, ?it/s]\n",
      "100%|██████████| 104/104 [00:00<?, ?it/s]\n"
     ]
    },
    {
     "name": "stdout",
     "output_type": "stream",
     "text": [
      "---------------------------------\n"
     ]
    },
    {
     "name": "stderr",
     "output_type": "stream",
     "text": [
      "100%|██████████| 93/93 [00:00<?, ?it/s]\n",
      "100%|██████████| 92/92 [00:00<?, ?it/s]\n",
      "100%|██████████| 103/103 [00:00<?, ?it/s]\n"
     ]
    },
    {
     "name": "stdout",
     "output_type": "stream",
     "text": [
      "---------------------------------\n"
     ]
    },
    {
     "name": "stderr",
     "output_type": "stream",
     "text": [
      "100%|██████████| 92/92 [00:00<?, ?it/s]\n",
      "100%|██████████| 91/91 [00:00<?, ?it/s]\n",
      "100%|██████████| 102/102 [00:00<?, ?it/s]\n"
     ]
    },
    {
     "name": "stdout",
     "output_type": "stream",
     "text": [
      "---------------------------------\n"
     ]
    },
    {
     "name": "stderr",
     "output_type": "stream",
     "text": [
      "100%|██████████| 91/91 [00:00<?, ?it/s]\n",
      "100%|██████████| 90/90 [00:00<?, ?it/s]\n",
      "100%|██████████| 101/101 [00:00<?, ?it/s]\n"
     ]
    },
    {
     "name": "stdout",
     "output_type": "stream",
     "text": [
      "---------------------------------\n"
     ]
    },
    {
     "name": "stderr",
     "output_type": "stream",
     "text": [
      "100%|██████████| 90/90 [00:00<?, ?it/s]\n",
      "100%|██████████| 89/89 [00:00<?, ?it/s]\n",
      "100%|██████████| 100/100 [00:00<?, ?it/s]\n"
     ]
    },
    {
     "name": "stdout",
     "output_type": "stream",
     "text": [
      "---------------------------------\n"
     ]
    },
    {
     "name": "stderr",
     "output_type": "stream",
     "text": [
      "100%|██████████| 89/89 [00:00<?, ?it/s]\n",
      "100%|██████████| 88/88 [00:00<?, ?it/s]\n",
      "100%|██████████| 99/99 [00:00<00:00, 13181.68it/s]\n"
     ]
    },
    {
     "name": "stdout",
     "output_type": "stream",
     "text": [
      "---------------------------------\n"
     ]
    },
    {
     "name": "stderr",
     "output_type": "stream",
     "text": [
      "100%|██████████| 88/88 [00:00<?, ?it/s]\n",
      "100%|██████████| 87/87 [00:00<00:00, 10844.76it/s]\n",
      "100%|██████████| 98/98 [00:00<00:00, 12308.85it/s]\n"
     ]
    },
    {
     "name": "stdout",
     "output_type": "stream",
     "text": [
      "---------------------------------\n"
     ]
    },
    {
     "name": "stderr",
     "output_type": "stream",
     "text": [
      "100%|██████████| 87/87 [00:00<?, ?it/s]\n",
      "100%|██████████| 86/86 [00:00<?, ?it/s]\n",
      "100%|██████████| 97/97 [00:00<00:00, 12116.85it/s]\n"
     ]
    },
    {
     "name": "stdout",
     "output_type": "stream",
     "text": [
      "---------------------------------\n"
     ]
    },
    {
     "name": "stderr",
     "output_type": "stream",
     "text": [
      "100%|██████████| 86/86 [00:00<?, ?it/s]\n",
      "100%|██████████| 85/85 [00:00<?, ?it/s]\n",
      "100%|██████████| 96/96 [00:00<00:00, 11989.79it/s]\n"
     ]
    },
    {
     "name": "stdout",
     "output_type": "stream",
     "text": [
      "---------------------------------\n"
     ]
    },
    {
     "name": "stderr",
     "output_type": "stream",
     "text": [
      "100%|██████████| 85/85 [00:00<?, ?it/s]\n",
      "100%|██████████| 84/84 [00:00<?, ?it/s]\n",
      "100%|██████████| 95/95 [00:00<?, ?it/s]\n"
     ]
    },
    {
     "name": "stdout",
     "output_type": "stream",
     "text": [
      "---------------------------------\n"
     ]
    },
    {
     "name": "stderr",
     "output_type": "stream",
     "text": [
      "100%|██████████| 84/84 [00:00<?, ?it/s]\n",
      "100%|██████████| 83/83 [00:00<?, ?it/s]\n",
      "100%|██████████| 94/94 [00:00<?, ?it/s]\n"
     ]
    },
    {
     "name": "stdout",
     "output_type": "stream",
     "text": [
      "---------------------------------\n"
     ]
    },
    {
     "name": "stderr",
     "output_type": "stream",
     "text": [
      "100%|██████████| 83/83 [00:00<?, ?it/s]\n",
      "100%|██████████| 82/82 [00:00<?, ?it/s]\n",
      "100%|██████████| 93/93 [00:00<?, ?it/s]\n"
     ]
    },
    {
     "name": "stdout",
     "output_type": "stream",
     "text": [
      "---------------------------------\n"
     ]
    },
    {
     "name": "stderr",
     "output_type": "stream",
     "text": [
      "100%|██████████| 82/82 [00:00<?, ?it/s]\n",
      "100%|██████████| 81/81 [00:00<?, ?it/s]\n",
      "100%|██████████| 92/92 [00:00<?, ?it/s]\n"
     ]
    },
    {
     "name": "stdout",
     "output_type": "stream",
     "text": [
      "---------------------------------\n"
     ]
    },
    {
     "name": "stderr",
     "output_type": "stream",
     "text": [
      "100%|██████████| 81/81 [00:00<?, ?it/s]\n",
      "100%|██████████| 80/80 [00:00<?, ?it/s]\n",
      "100%|██████████| 91/91 [00:00<?, ?it/s]\n"
     ]
    },
    {
     "name": "stdout",
     "output_type": "stream",
     "text": [
      "---------------------------------\n"
     ]
    },
    {
     "name": "stderr",
     "output_type": "stream",
     "text": [
      "100%|██████████| 80/80 [00:00<?, ?it/s]\n",
      "100%|██████████| 79/79 [00:00<?, ?it/s]\n",
      "100%|██████████| 90/90 [00:00<00:00, 11263.57it/s]\n"
     ]
    },
    {
     "name": "stdout",
     "output_type": "stream",
     "text": [
      "---------------------------------\n"
     ]
    },
    {
     "name": "stderr",
     "output_type": "stream",
     "text": [
      "100%|██████████| 79/79 [00:00<?, ?it/s]\n",
      "100%|██████████| 78/78 [00:00<?, ?it/s]\n",
      "100%|██████████| 89/89 [00:00<?, ?it/s]\n"
     ]
    },
    {
     "name": "stdout",
     "output_type": "stream",
     "text": [
      "---------------------------------\n"
     ]
    },
    {
     "name": "stderr",
     "output_type": "stream",
     "text": [
      "100%|██████████| 78/78 [00:00<?, ?it/s]\n",
      "100%|██████████| 77/77 [00:00<?, ?it/s]\n",
      "100%|██████████| 88/88 [00:00<?, ?it/s]\n"
     ]
    },
    {
     "name": "stdout",
     "output_type": "stream",
     "text": [
      "---------------------------------\n"
     ]
    },
    {
     "name": "stderr",
     "output_type": "stream",
     "text": [
      "100%|██████████| 77/77 [00:00<?, ?it/s]\n",
      "100%|██████████| 76/76 [00:00<?, ?it/s]\n",
      "100%|██████████| 87/87 [00:00<?, ?it/s]\n"
     ]
    },
    {
     "name": "stdout",
     "output_type": "stream",
     "text": [
      "---------------------------------\n"
     ]
    },
    {
     "name": "stderr",
     "output_type": "stream",
     "text": [
      "100%|██████████| 76/76 [00:00<?, ?it/s]\n",
      "100%|██████████| 75/75 [00:00<00:00, 11518.17it/s]\n",
      "100%|██████████| 86/86 [00:00<?, ?it/s]\n"
     ]
    },
    {
     "name": "stdout",
     "output_type": "stream",
     "text": [
      "---------------------------------\n"
     ]
    },
    {
     "name": "stderr",
     "output_type": "stream",
     "text": [
      "100%|██████████| 75/75 [00:00<?, ?it/s]\n",
      "100%|██████████| 74/74 [00:00<?, ?it/s]\n",
      "100%|██████████| 85/85 [00:00<?, ?it/s]\n"
     ]
    },
    {
     "name": "stdout",
     "output_type": "stream",
     "text": [
      "---------------------------------\n"
     ]
    },
    {
     "name": "stderr",
     "output_type": "stream",
     "text": [
      "100%|██████████| 74/74 [00:00<?, ?it/s]\n",
      "100%|██████████| 73/73 [00:00<?, ?it/s]\n",
      "100%|██████████| 84/84 [00:00<?, ?it/s]\n"
     ]
    },
    {
     "name": "stdout",
     "output_type": "stream",
     "text": [
      "---------------------------------\n"
     ]
    },
    {
     "name": "stderr",
     "output_type": "stream",
     "text": [
      "100%|██████████| 73/73 [00:00<?, ?it/s]\n",
      "100%|██████████| 72/72 [00:00<?, ?it/s]\n",
      "100%|██████████| 83/83 [00:00<?, ?it/s]\n"
     ]
    },
    {
     "name": "stdout",
     "output_type": "stream",
     "text": [
      "---------------------------------\n"
     ]
    },
    {
     "name": "stderr",
     "output_type": "stream",
     "text": [
      "100%|██████████| 72/72 [00:00<00:00, 11951.00it/s]\n",
      "100%|██████████| 71/71 [00:00<?, ?it/s]\n",
      "100%|██████████| 82/82 [00:00<?, ?it/s]\n"
     ]
    },
    {
     "name": "stdout",
     "output_type": "stream",
     "text": [
      "---------------------------------\n"
     ]
    },
    {
     "name": "stderr",
     "output_type": "stream",
     "text": [
      "100%|██████████| 71/71 [00:00<?, ?it/s]\n",
      "100%|██████████| 70/70 [00:00<00:00, 8750.90it/s]\n",
      "100%|██████████| 81/81 [00:00<?, ?it/s]\n"
     ]
    },
    {
     "name": "stdout",
     "output_type": "stream",
     "text": [
      "---------------------------------\n"
     ]
    },
    {
     "name": "stderr",
     "output_type": "stream",
     "text": [
      "100%|██████████| 70/70 [00:00<?, ?it/s]\n",
      "100%|██████████| 69/69 [00:00<?, ?it/s]\n",
      "100%|██████████| 80/80 [00:00<?, ?it/s]\n"
     ]
    },
    {
     "name": "stdout",
     "output_type": "stream",
     "text": [
      "---------------------------------\n"
     ]
    },
    {
     "name": "stderr",
     "output_type": "stream",
     "text": [
      "100%|██████████| 69/69 [00:00<?, ?it/s]\n",
      "100%|██████████| 68/68 [00:00<?, ?it/s]\n",
      "100%|██████████| 79/79 [00:00<?, ?it/s]\n"
     ]
    },
    {
     "name": "stdout",
     "output_type": "stream",
     "text": [
      "---------------------------------\n"
     ]
    },
    {
     "name": "stderr",
     "output_type": "stream",
     "text": [
      "100%|██████████| 68/68 [00:00<?, ?it/s]\n",
      "100%|██████████| 67/67 [00:00<?, ?it/s]\n",
      "100%|██████████| 78/78 [00:00<?, ?it/s]\n"
     ]
    },
    {
     "name": "stdout",
     "output_type": "stream",
     "text": [
      "---------------------------------\n"
     ]
    },
    {
     "name": "stderr",
     "output_type": "stream",
     "text": [
      "100%|██████████| 67/67 [00:00<?, ?it/s]\n",
      "100%|██████████| 66/66 [00:00<?, ?it/s]\n",
      "100%|██████████| 77/77 [00:00<?, ?it/s]\n"
     ]
    },
    {
     "name": "stdout",
     "output_type": "stream",
     "text": [
      "---------------------------------\n"
     ]
    },
    {
     "name": "stderr",
     "output_type": "stream",
     "text": [
      "100%|██████████| 66/66 [00:00<?, ?it/s]\n",
      "100%|██████████| 65/65 [00:00<?, ?it/s]\n",
      "100%|██████████| 76/76 [00:00<?, ?it/s]\n"
     ]
    },
    {
     "name": "stdout",
     "output_type": "stream",
     "text": [
      "---------------------------------\n"
     ]
    },
    {
     "name": "stderr",
     "output_type": "stream",
     "text": [
      "100%|██████████| 65/65 [00:00<?, ?it/s]\n",
      "100%|██████████| 64/64 [00:00<?, ?it/s]\n",
      "100%|██████████| 75/75 [00:00<?, ?it/s]\n"
     ]
    },
    {
     "name": "stdout",
     "output_type": "stream",
     "text": [
      "---------------------------------\n"
     ]
    },
    {
     "name": "stderr",
     "output_type": "stream",
     "text": [
      "100%|██████████| 64/64 [00:00<?, ?it/s]\n",
      "100%|██████████| 63/63 [00:00<00:00, 8986.57it/s]\n",
      "100%|██████████| 74/74 [00:00<?, ?it/s]\n"
     ]
    },
    {
     "name": "stdout",
     "output_type": "stream",
     "text": [
      "---------------------------------\n"
     ]
    },
    {
     "name": "stderr",
     "output_type": "stream",
     "text": [
      "100%|██████████| 63/63 [00:00<?, ?it/s]\n",
      "100%|██████████| 62/62 [00:00<?, ?it/s]\n",
      "100%|██████████| 73/73 [00:00<?, ?it/s]\n"
     ]
    },
    {
     "name": "stdout",
     "output_type": "stream",
     "text": [
      "---------------------------------\n"
     ]
    },
    {
     "name": "stderr",
     "output_type": "stream",
     "text": [
      "100%|██████████| 62/62 [00:00<?, ?it/s]\n",
      "100%|██████████| 61/61 [00:00<?, ?it/s]\n",
      "100%|██████████| 72/72 [00:00<00:00, 8998.77it/s]\n"
     ]
    },
    {
     "name": "stdout",
     "output_type": "stream",
     "text": [
      "---------------------------------\n"
     ]
    },
    {
     "name": "stderr",
     "output_type": "stream",
     "text": [
      "100%|██████████| 61/61 [00:00<?, ?it/s]\n",
      "100%|██████████| 60/60 [00:00<?, ?it/s]\n",
      "100%|██████████| 71/71 [00:00<?, ?it/s]\n"
     ]
    },
    {
     "name": "stdout",
     "output_type": "stream",
     "text": [
      "---------------------------------\n"
     ]
    },
    {
     "name": "stderr",
     "output_type": "stream",
     "text": [
      "100%|██████████| 60/60 [00:00<?, ?it/s]\n",
      "100%|██████████| 59/59 [00:00<?, ?it/s]\n",
      "100%|██████████| 70/70 [00:00<?, ?it/s]\n"
     ]
    },
    {
     "name": "stdout",
     "output_type": "stream",
     "text": [
      "---------------------------------\n"
     ]
    },
    {
     "name": "stderr",
     "output_type": "stream",
     "text": [
      "100%|██████████| 59/59 [00:00<?, ?it/s]\n",
      "100%|██████████| 58/58 [00:00<?, ?it/s]\n",
      "100%|██████████| 69/69 [00:00<?, ?it/s]\n"
     ]
    },
    {
     "name": "stdout",
     "output_type": "stream",
     "text": [
      "---------------------------------\n"
     ]
    },
    {
     "name": "stderr",
     "output_type": "stream",
     "text": [
      "100%|██████████| 58/58 [00:00<?, ?it/s]\n",
      "100%|██████████| 57/57 [00:00<?, ?it/s]\n",
      "100%|██████████| 68/68 [00:00<?, ?it/s]\n"
     ]
    },
    {
     "name": "stdout",
     "output_type": "stream",
     "text": [
      "---------------------------------\n"
     ]
    },
    {
     "name": "stderr",
     "output_type": "stream",
     "text": [
      "100%|██████████| 57/57 [00:00<?, ?it/s]\n",
      "100%|██████████| 56/56 [00:00<?, ?it/s]\n",
      "100%|██████████| 67/67 [00:00<?, ?it/s]\n"
     ]
    },
    {
     "name": "stdout",
     "output_type": "stream",
     "text": [
      "---------------------------------\n"
     ]
    },
    {
     "name": "stderr",
     "output_type": "stream",
     "text": [
      "100%|██████████| 56/56 [00:00<?, ?it/s]\n",
      "100%|██████████| 55/55 [00:00<?, ?it/s]\n",
      "100%|██████████| 66/66 [00:00<?, ?it/s]\n"
     ]
    },
    {
     "name": "stdout",
     "output_type": "stream",
     "text": [
      "---------------------------------\n"
     ]
    },
    {
     "name": "stderr",
     "output_type": "stream",
     "text": [
      "100%|██████████| 55/55 [00:00<?, ?it/s]\n",
      "100%|██████████| 54/54 [00:00<00:00, 6736.03it/s]\n",
      "100%|██████████| 65/65 [00:00<?, ?it/s]\n"
     ]
    },
    {
     "name": "stdout",
     "output_type": "stream",
     "text": [
      "---------------------------------\n"
     ]
    },
    {
     "name": "stderr",
     "output_type": "stream",
     "text": [
      "100%|██████████| 54/54 [00:00<?, ?it/s]\n",
      "100%|██████████| 53/53 [00:00<?, ?it/s]\n",
      "100%|██████████| 64/64 [00:00<?, ?it/s]\n"
     ]
    },
    {
     "name": "stdout",
     "output_type": "stream",
     "text": [
      "---------------------------------\n"
     ]
    },
    {
     "name": "stderr",
     "output_type": "stream",
     "text": [
      "100%|██████████| 53/53 [00:00<?, ?it/s]\n",
      "100%|██████████| 52/52 [00:00<?, ?it/s]\n",
      "100%|██████████| 63/63 [00:00<?, ?it/s]\n"
     ]
    },
    {
     "name": "stdout",
     "output_type": "stream",
     "text": [
      "---------------------------------\n"
     ]
    },
    {
     "name": "stderr",
     "output_type": "stream",
     "text": [
      "100%|██████████| 52/52 [00:00<00:00, 101255.25it/s]\n",
      "100%|██████████| 51/51 [00:00<?, ?it/s]\n",
      "100%|██████████| 62/62 [00:00<?, ?it/s]\n"
     ]
    },
    {
     "name": "stdout",
     "output_type": "stream",
     "text": [
      "---------------------------------\n"
     ]
    },
    {
     "name": "stderr",
     "output_type": "stream",
     "text": [
      "100%|██████████| 51/51 [00:00<?, ?it/s]\n",
      "100%|██████████| 50/50 [00:00<?, ?it/s]\n",
      "100%|██████████| 61/61 [00:00<?, ?it/s]\n"
     ]
    },
    {
     "name": "stdout",
     "output_type": "stream",
     "text": [
      "---------------------------------\n"
     ]
    },
    {
     "name": "stderr",
     "output_type": "stream",
     "text": [
      "100%|██████████| 50/50 [00:00<?, ?it/s]\n",
      "100%|██████████| 49/49 [00:00<?, ?it/s]\n",
      "100%|██████████| 60/60 [00:00<?, ?it/s]\n"
     ]
    },
    {
     "name": "stdout",
     "output_type": "stream",
     "text": [
      "---------------------------------\n"
     ]
    },
    {
     "ename": "KeyboardInterrupt",
     "evalue": "",
     "output_type": "error",
     "traceback": [
      "\u001b[1;31m---------------------------------------------------------------------------\u001b[0m",
      "\u001b[1;31mKeyboardInterrupt\u001b[0m                         Traceback (most recent call last)",
      "\u001b[1;32md:\\VS_code\\update_mysql.ipynb Cell 4\u001b[0m in \u001b[0;36m<cell line: 3>\u001b[1;34m()\u001b[0m\n\u001b[0;32m     <a href='vscode-notebook-cell:/d%3A/VS_code/update_mysql.ipynb#W3sZmlsZQ%3D%3D?line=60'>61</a>\u001b[0m os\u001b[39m.\u001b[39mremove(MBC_news[\u001b[39m0\u001b[39m])\n\u001b[0;32m     <a href='vscode-notebook-cell:/d%3A/VS_code/update_mysql.ipynb#W3sZmlsZQ%3D%3D?line=61'>62</a>\u001b[0m \u001b[39mprint\u001b[39m(\u001b[39m'\u001b[39m\u001b[39m---------------------------------\u001b[39m\u001b[39m'\u001b[39m)\n\u001b[1;32m---> <a href='vscode-notebook-cell:/d%3A/VS_code/update_mysql.ipynb#W3sZmlsZQ%3D%3D?line=62'>63</a>\u001b[0m time\u001b[39m.\u001b[39;49msleep(\u001b[39m3\u001b[39;49m)\n",
      "\u001b[1;31mKeyboardInterrupt\u001b[0m: "
     ]
    }
   ],
   "source": [
    "while True:\n",
    "    ######################################## KBS 뉴스업로드 ########################################\n",
    "    KBS_news = [os.path.join('./KBS_news', f) for f in tqdm(os.listdir('./KBS_news')) if f.endswith('.json')]\n",
    "    if (len(KBS_news) == 0): time.sleep(60)\n",
    "\n",
    "    # JSON 파일 읽기\n",
    "    with open(KBS_news[0], 'r', encoding='utf-8') as f:\n",
    "        data = json.load(f)\n",
    "    \n",
    "    # 커서 생성\n",
    "    cur = conn.cursor()\n",
    "    \n",
    "    # 데이터 삽입\n",
    "    cur.execute(\"INSERT INTO news VALUES (%s, %s, %s, %s, %s, %s, %s, %s, %s, %s)\",\n",
    "                (data['company'], data['image'], data['title'], data['url'], data['time'], data['field'], data['writer'], data['text_short'], data['text_middle'], data['text_long']))\n",
    "    \n",
    "    # 커밋\n",
    "    conn.commit()\n",
    "    \n",
    "    # 저장한 json 파일 삭제\n",
    "    os.remove(KBS_news[0])\n",
    "    ######################################## SBS 뉴스업로드 ########################################\n",
    "    SBS_news = [os.path.join('./SBS_news', f) for f in tqdm(os.listdir('./SBS_news')) if f.endswith('.json')]\n",
    "    if (len(SBS_news) == 0): time.sleep(60)\n",
    "\n",
    "    # JSON 파일 읽기\n",
    "    with open(SBS_news[0], 'r', encoding='utf-8') as f:\n",
    "        data = json.load(f)\n",
    "    \n",
    "    # 커서 생성\n",
    "    cur = conn.cursor()\n",
    "    \n",
    "    # 데이터 삽입\n",
    "    cur.execute(\"INSERT INTO news VALUES (%s, %s, %s, %s, %s, %s, %s, %s, %s, %s)\",\n",
    "                (data['company'], data['image'], data['title'], data['url'], data['time'], data['field'], data['writer'], data['text_short'], data['text_middle'], data['text_long']))\n",
    "    \n",
    "    # 커밋\n",
    "    conn.commit()\n",
    "    \n",
    "    # 저장한 json 파일 삭제\n",
    "    os.remove(SBS_news[0])\n",
    "    ######################################## KBS 뉴스업로드 ########################################\n",
    "    MBC_news = [os.path.join('./MBC_news', f) for f in tqdm(os.listdir('./MBC_news')) if f.endswith('.json')]\n",
    "    if (len(MBC_news) == 0): time.sleep(60)\n",
    "\n",
    "    # JSON 파일 읽기\n",
    "    with open(MBC_news[0], 'r', encoding='utf-8') as f:\n",
    "        data = json.load(f)\n",
    "    \n",
    "    # 커서 생성\n",
    "    cur = conn.cursor()\n",
    "    \n",
    "    # 데이터 삽입\n",
    "    cur.execute(\"INSERT INTO news VALUES (%s, %s, %s, %s, %s, %s, %s, %s, %s, %s)\",\n",
    "                (data['company'], data['image'], data['title'], data['url'], data['time'], data['field'], data['writer'], data['text_short'], data['text_middle'], data['text_long']))\n",
    "    \n",
    "    # 커밋\n",
    "    conn.commit()\n",
    "    \n",
    "    # 저장한 json 파일 삭제\n",
    "    os.remove(MBC_news[0])\n",
    "    print('---------------------------------')\n",
    "    time.sleep(3)"
   ]
  },
  {
   "cell_type": "code",
   "execution_count": 5,
   "metadata": {},
   "outputs": [],
   "source": [
    "# 연결 종료\n",
    "conn.close()"
   ]
  }
 ],
 "metadata": {
  "kernelspec": {
   "display_name": "Python 3",
   "language": "python",
   "name": "python3"
  },
  "language_info": {
   "codemirror_mode": {
    "name": "ipython",
    "version": 3
   },
   "file_extension": ".py",
   "mimetype": "text/x-python",
   "name": "python",
   "nbconvert_exporter": "python",
   "pygments_lexer": "ipython3",
   "version": "3.8.16"
  },
  "orig_nbformat": 4
 },
 "nbformat": 4,
 "nbformat_minor": 2
}
